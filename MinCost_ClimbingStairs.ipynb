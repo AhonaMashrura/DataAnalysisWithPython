{
 "cells": [
  {
   "cell_type": "code",
   "execution_count": 4,
   "id": "6960c899-a2c7-41ce-9fe0-ce0ce8723bf6",
   "metadata": {},
   "outputs": [
    {
     "data": {
      "text/plain": [
       "8"
      ]
     },
     "execution_count": 4,
     "metadata": {},
     "output_type": "execute_result"
    }
   ],
   "source": [
    "class Solution:\n",
    "    # An empty dictionary \n",
    "    store = {}\n",
    "    def climbStairs(self, n: int) -> int:\n",
    "        if n <= 1 and n >= 0:\n",
    "            self.store[n] = 1\n",
    "            return 1\n",
    "        else:\n",
    "            if n - 1 not in self.store:\n",
    "                self.store[n - 1] = self.climbStairs(n-1)\n",
    "            if n - 2 not in self.store:\n",
    "                self.store[n - 2] = self.climbStairs(n-2)\n",
    "            return self.store[n - 1] + self.store[n - 2]\n",
    "Sol1_obj = Solution()\n",
    "Sol1_obj.climbStairs(5)"
   ]
  },
  {
   "cell_type": "code",
   "execution_count": 21,
   "id": "a82b8934-ba86-4f20-a114-198f07c2674c",
   "metadata": {},
   "outputs": [
    {
     "name": "stdout",
     "output_type": "stream",
     "text": [
      "6\n"
     ]
    }
   ],
   "source": [
    "class Solution:\n",
    "    store = {}\n",
    "\n",
    "    def climbStairs(self, n: int, cost: [int]) -> int:\n",
    "        def min_cost(i):\n",
    "            if i <= 1:\n",
    "                return cost[i]\n",
    "            if i not in self.store:\n",
    "                self.store[i] = cost[i] + min(min_cost(i-1), min_cost(i-2))\n",
    "            return self.store[i]\n",
    "\n",
    "        return min(min_cost(n-1), min_cost(n-2))\n",
    "\n",
    "# Example usage:\n",
    "Sol1_obj = Solution()\n",
    "n = 10\n",
    "result = Sol1_obj.climbStairs(n, cost)\n",
    "print(result)"
   ]
  },
  {
   "cell_type": "code",
   "execution_count": 24,
   "id": "effadbfa-a0de-4e54-857a-40882acc4a80",
   "metadata": {},
   "outputs": [
    {
     "data": {
      "text/plain": [
       "100"
      ]
     },
     "execution_count": 24,
     "metadata": {},
     "output_type": "execute_result"
    }
   ],
   "source": [
    "while (ind < len_cost - 2):\n",
    "    if cost[ind + 1] > cost[ind + 2]:\n",
    "        ind = ind + 2 \n",
    "    else:\n",
    "        ind = ind + 1\n",
    "        \n",
    "cost1 = [1, 100, 1, 1, 1, 100, 1, 1, 100, 1]\n",
    "cost12 = [145] \\\\\\\\\\ NA\n",
    "cost2 = [145, 1500]   \\\\\\ NA\n",
    "cost3 = [145, 1500, 9098] \\\\\\NA\n",
    "cost4 = [145, 1500, 9098, 9999] \n",
    "    "
   ]
  },
  {
   "cell_type": "code",
   "execution_count": 38,
   "id": "b5406e7a-b730-4b34-be8e-42aeb9df1072",
   "metadata": {},
   "outputs": [],
   "source": [
    "class Solution:\n",
    "    def __init__(self):\n",
    "        self.ind_tracker = []\n",
    "        \n",
    "    def climbStairs(self, cost: [int]) -> int:\n",
    "        ind = -1\n",
    "        total_min_cost = 0\n",
    "        len_cost = len(cost)\n",
    "        # Boundary condition e.g. cost = [145] \n",
    "        if len_cost == 1:\n",
    "            ind = 0\n",
    "            total_min_cost = cost[ind]\n",
    "            self.ind_tracker.append(ind)\n",
    "            return total_min_cost\n",
    "        # Boundary condition e.g. cost = [145, 1500]\n",
    "        if len_cost == 2:\n",
    "            if cost[0] < cost[1]:\n",
    "                ind = 0\n",
    "            else:\n",
    "                ind = 1\n",
    "            total_min_cost = cost[ind]\n",
    "            self.ind_tracker.append(ind)\n",
    "            return total_min_cost\n",
    "        # Boundary condition e.g. cost = [145, 1500, 9098]\n",
    "        if len_cost == 3:\n",
    "            if cost[0] < cost[1]:\n",
    "                ind = 0\n",
    "                total_min_cost = cost[ind]\n",
    "                self.ind_tracker.append(ind)\n",
    "                if cost[1] < cost[2]:\n",
    "                    ind = 1\n",
    "                    total_min_cost = total_min_cost + cost[ind]\n",
    "                    self.ind_tracker.append(ind)\n",
    "                    return total_min_cost\n",
    "            else:\n",
    "                ind = 1\n",
    "                total_min_cost = cost[ind]\n",
    "                self.ind_tracker.append(ind)\n",
    "                return total_min_cost\n",
    "                \n",
    "            \n",
    "        while (ind < len_cost - 2):\n",
    "            if cost[ind + 1] > cost[ind + 2]:\n",
    "                ind = ind + 2\n",
    "            elif cost[ind + 1] == cost[ind + 2]:\n",
    "                ind = ind + 2\n",
    "            else:\n",
    "                ind = ind + 1\n",
    "            total_min_cost = total_min_cost + cost[ind]\n",
    "            self.ind_tracker.append(ind)\n",
    "            \n",
    "        return total_min_cost"
   ]
  },
  {
   "cell_type": "code",
   "execution_count": 39,
   "id": "4aff962c-e6ec-4193-8c87-0de94d99e50c",
   "metadata": {},
   "outputs": [
    {
     "data": {
      "text/plain": [
       "(6, [0, 2, 4, 6, 7, 9])"
      ]
     },
     "execution_count": 39,
     "metadata": {},
     "output_type": "execute_result"
    }
   ],
   "source": [
    "cost = [1,100,1,1,1,100,1,1,100,1]\n",
    "test_obj = Solution()\n",
    "test_obj.climbStairs(cost), test_obj.ind_tracker"
   ]
  },
  {
   "cell_type": "code",
   "execution_count": 45,
   "id": "0a02f339-d90f-44bb-81da-39d5dd8a73f7",
   "metadata": {},
   "outputs": [
    {
     "data": {
      "text/plain": [
       "{'fname': 'Joe',\n",
       " 'lname': 'Fonebone',\n",
       " 'age': 51,\n",
       " 'spouse': 'Edna',\n",
       " 'children': ['Ralph', 'Betty', 'Joey'],\n",
       " 'pets': {'dog': 'Fido', 'cat': 'Sox'}}"
      ]
     },
     "execution_count": 45,
     "metadata": {},
     "output_type": "execute_result"
    }
   ],
   "source": [
    "#Creation of an empty Dictionary\n",
    "person = {}\n",
    "\n",
    "person['fname'] = 'Joe'\n",
    "person['lname'] = 'Fonebone'\n",
    "person['age'] = 51\n",
    "person['spouse'] = 'Edna'\n",
    "person['children'] = ['Ralph', 'Betty', 'Joey']\n",
    "person['pets'] = {'dog': 'Fido', 'cat': 'Sox'}\n",
    "\n",
    "#person['fname']\n",
    "person\n"
   ]
  },
  {
   "cell_type": "code",
   "execution_count": 46,
   "id": "23778bc2-d444-4f9b-ba01-e5431e458c9e",
   "metadata": {},
   "outputs": [
    {
     "data": {
      "text/plain": [
       "'Joey'"
      ]
     },
     "execution_count": 46,
     "metadata": {},
     "output_type": "execute_result"
    }
   ],
   "source": [
    "# Retriving data from sublist in a dictionary\n",
    "person['children'][-1]"
   ]
  },
  {
   "cell_type": "code",
   "execution_count": 50,
   "id": "7d32a280-09f4-46ea-a698-80ce2efd8c06",
   "metadata": {},
   "outputs": [
    {
     "data": {
      "text/plain": [
       "'Fido'"
      ]
     },
     "execution_count": 50,
     "metadata": {},
     "output_type": "execute_result"
    }
   ],
   "source": [
    "# Retriving data from subdictionary in a dictionary\n",
    "person['pets']['dog']"
   ]
  }
 ],
 "metadata": {
  "kernelspec": {
   "display_name": "Python 3 (ipykernel)",
   "language": "python",
   "name": "python3"
  },
  "language_info": {
   "codemirror_mode": {
    "name": "ipython",
    "version": 3
   },
   "file_extension": ".py",
   "mimetype": "text/x-python",
   "name": "python",
   "nbconvert_exporter": "python",
   "pygments_lexer": "ipython3",
   "version": "3.10.11"
  }
 },
 "nbformat": 4,
 "nbformat_minor": 5
}
