{
 "cells": [
  {
   "cell_type": "code",
   "execution_count": 4,
   "id": "a19b6748-6f1f-4d47-a256-8698aea5a624",
   "metadata": {},
   "outputs": [
    {
     "data": {
      "text/plain": [
       "True"
      ]
     },
     "execution_count": 4,
     "metadata": {},
     "output_type": "execute_result"
    }
   ],
   "source": [
    "# N-th tribonacci number\n",
    "# Dictionary from tribonacci number to value\n",
    "trinum = {0:0,\n",
    "          1:0,\n",
    "          2:1}\n",
    "\n",
    "def T(n):\n",
    "    '''Calculate Tribonacci number for a given value n.\n",
    "    '''\n",
    "    '''The function \"T\" was built consisting of \"if condition\". where the 1st and 3rd coditions were about the first 3\n",
    "    three tribonacci numbers. Those numbers are already inserted in the dictionary. The 2nd condition is about the numbers\n",
    "    that are negetive values and less then 0 will not be into the consideration '''\n",
    "    # Retrun predefined Tribonacci number for n = 0, 1 or 2 \n",
    "    if n == 0 or n == 1 or n == 2:\n",
    "        return trinum[n]\n",
    "    # n can not be less than zero and raise error\n",
    "    elif n < 0:\n",
    "        raise ValueError('can not be negetive integer.')\n",
    "\n",
    "    # Check if Tribonacci number is calculated and stored. If it is not \n",
    "    # calculate and stored, than do it. It wil help to reduce the runtime of the code.\n",
    "    else:\n",
    "        if n not in trinum:\n",
    "            trinum[n] = T(n-1) + T(n-2) + T(n-3)\n",
    "        return trinum[n]\n",
    "\n",
    "# Check the result\n",
    "Test_25 = 755476\n",
    "Test_25 == T(25)\n"
   ]
  },
  {
   "cell_type": "code",
   "execution_count": null,
   "id": "c6fe39b1-f533-4b7b-8b7e-7693ba5c8e0f",
   "metadata": {},
   "outputs": [],
   "source": []
  }
 ],
 "metadata": {
  "kernelspec": {
   "display_name": "Python 3 (ipykernel)",
   "language": "python",
   "name": "python3"
  },
  "language_info": {
   "codemirror_mode": {
    "name": "ipython",
    "version": 3
   },
   "file_extension": ".py",
   "mimetype": "text/x-python",
   "name": "python",
   "nbconvert_exporter": "python",
   "pygments_lexer": "ipython3",
   "version": "3.10.11"
  }
 },
 "nbformat": 4,
 "nbformat_minor": 5
}
