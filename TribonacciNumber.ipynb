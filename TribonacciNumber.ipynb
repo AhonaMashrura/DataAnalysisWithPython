{
 "cells": [
  {
   "cell_type": "code",
   "execution_count": 6,
   "id": "a19b6748-6f1f-4d47-a256-8698aea5a624",
   "metadata": {},
   "outputs": [
    {
     "data": {
      "text/plain": [
       "True"
      ]
     },
     "execution_count": 6,
     "metadata": {},
     "output_type": "execute_result"
    }
   ],
   "source": [
    "# N-th tribonacci number\n",
    "# Dictionary from tribonacci number to value\n",
    "trinum = {0:0,\n",
    "          1:1,\n",
    "          2:1}\n",
    "\n",
    "def T(n):\n",
    "    '''Calculate Tribonacci number for a given value n.\n",
    "    '''\n",
    "    \n",
    "    # Retrun predefined Tribonacci number for n = 0, 1 or 2 \n",
    "    if n == 0 or n == 1 or n == 2:\n",
    "        return trinum[n]\n",
    "    # n can not be less than zero and raise error\n",
    "    elif n < 0:\n",
    "        raise ValueError('can not be negetive integer.')\n",
    "\n",
    "    # Check if Tribonacci number is calculated and stored. If it is not \n",
    "    # calculate and stored, than do it. It wil help to reduce the runtime of the code.\n",
    "    else:\n",
    "        if n not in trinum:\n",
    "            trinum[n] = T(n-1) + T(n-2) + T(n-3)\n",
    "        return trinum[n]\n",
    "\n",
    "# Check the result\n",
    "Test_25 = 1389537\n",
    "Test_25 == T(25)\n"
   ]
  },
  {
   "cell_type": "code",
   "execution_count": 5,
   "id": "c6fe39b1-f533-4b7b-8b7e-7693ba5c8e0f",
   "metadata": {},
   "outputs": [
    {
     "data": {
      "text/plain": [
       "1389537"
      ]
     },
     "execution_count": 5,
     "metadata": {},
     "output_type": "execute_result"
    }
   ],
   "source": [
    "class Solution:\n",
    "    # Dictionary from tribonacci number to value\n",
    "    trinum = {0:0,\n",
    "          1:1,\n",
    "          2:1}\n",
    "    def tribonacci(self, n: int) -> int:\n",
    "        '''Calculate Tribonacci number for a given value n.\n",
    "        '''\n",
    "        T = self.tribonacci\n",
    "    \n",
    "        # Retrun predefined Tribonacci number for n = 0, 1 or 2 \n",
    "        if n == 0 or n == 1 or n == 2:\n",
    "            return self.trinum[n]\n",
    "        # n can not be less than zero and raise error\n",
    "        elif n < 0:\n",
    "            raise ValueError('can not be negetive integer.')\n",
    "\n",
    "        # Check if Tribonacci number is calculated and stored. If it is not \n",
    "        # calculate and stored, than do it. It wil help to reduce the runtime of the code.\n",
    "        else:\n",
    "            if n not in self.trinum:\n",
    "               self.trinum[n] = T(n-1) + T(n-2) + T(n-3)\n",
    "            return self.trinum[n]\n",
    "    \n",
    "\n",
    "sol_obj = Solution()\n",
    "sol_obj.tribonacci(25)"
   ]
  },
  {
   "cell_type": "code",
   "execution_count": null,
   "id": "b2fb880b-9da2-46de-9209-c6ccef0ad120",
   "metadata": {},
   "outputs": [],
   "source": []
  }
 ],
 "metadata": {
  "kernelspec": {
   "display_name": "Python 3 (ipykernel)",
   "language": "python",
   "name": "python3"
  },
  "language_info": {
   "codemirror_mode": {
    "name": "ipython",
    "version": 3
   },
   "file_extension": ".py",
   "mimetype": "text/x-python",
   "name": "python",
   "nbconvert_exporter": "python",
   "pygments_lexer": "ipython3",
   "version": "3.10.11"
  }
 },
 "nbformat": 4,
 "nbformat_minor": 5
}
